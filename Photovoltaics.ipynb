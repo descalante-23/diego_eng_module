{
 "cells": [
  {
   "cell_type": "markdown",
   "id": "6bf87275-ed2f-4ab8-a72d-56f023ad8711",
   "metadata": {},
   "source": [
    "# **Photovoltaics with API**\n"
   ]
  },
  {
   "cell_type": "markdown",
   "id": "c8dba00f-3958-4a38-9201-07d8bd70d37c",
   "metadata": {},
   "source": [
    "#### Calculates the necessary PV area for a example household with an electric car, given the consumption inputs and the location (lat, lon) coordinates based on data retrieved from a NASA API."
   ]
  },
  {
   "cell_type": "markdown",
   "id": "81474bc5-2093-46b4-b73a-8f859967fabb",
   "metadata": {},
   "source": [
    "### Step 1: \n",
    "Append the directory containing your .py file to the system path and import the module"
   ]
  },
  {
   "cell_type": "code",
   "execution_count": 1,
   "id": "7f838167-b691-4c68-8082-b0822b06eb68",
   "metadata": {},
   "outputs": [],
   "source": [
    "import sys\n",
    "sys.path.append('/Users/descalante/pycode/eng_module')\n",
    "import Photovoltaics_API as pv\n"
   ]
  },
  {
   "cell_type": "markdown",
   "id": "e2f0ef0e-b4a6-4c71-a61e-23103be93e3c",
   "metadata": {},
   "source": [
    "### Step 2: \n",
    "Obtain the median global radiation for a given latitude and longitude. For cities/places in the South/West Hemisphere, just input the latitude and longitude as negative values.\n",
    "\n",
    "For example Munich:\n",
    "\n",
    "    Latitude: 48.137154\n",
    "    Longitude: 11.576124"
   ]
  },
  {
   "cell_type": "code",
   "execution_count": 2,
   "id": "3117e068-6e76-4a35-9590-b684bfc80ece",
   "metadata": {},
   "outputs": [
    {
     "name": "stdout",
     "output_type": "stream",
     "text": [
      "q_global= 3.36 kWh/m^2/day\n"
     ]
    }
   ],
   "source": [
    "lat= 48.137154\n",
    "lon= 11.576124\n",
    "\n",
    "print(f\"q_global= {pv.get_global_radiation(lat,lon):.2f} kWh/m^2/day\")   "
   ]
  },
  {
   "cell_type": "markdown",
   "id": "db57525b-9373-417d-854f-3a4b3890ccd4",
   "metadata": {},
   "source": [
    "### Step 3: Define the inputs for the function\n",
    "\n",
    "#### Calculate the required area of the PV module for a household and an electric car, considering the tilt of the panel and retrieving the global radiation based on latitude and longitude.\n",
    "\n",
    "    Parameters:\n",
    "    W_hh (float): Electricity consumption of the household in kWh/day.\n",
    "    W_car (float): Electricity consumption of the car per charging session.\n",
    "    eta_pv (float): Efficiency of the PV system.\n",
    "    lat (float): Latitude of the location.\n",
    "    lon (float): Longitude of the location.\n",
    "    eta_tilt (float): Efficiency adjustment factor due to tilt.\n",
    "\n",
    "    Returns:\n",
    "    float: Required area of the PV module in m^2.\n"
   ]
  },
  {
   "cell_type": "code",
   "execution_count": 3,
   "id": "8cbe69d1-bf16-44ef-b977-21232b982661",
   "metadata": {},
   "outputs": [],
   "source": [
    "lat = 48.137154\n",
    "lon = 11.576124\n",
    "\n",
    "# Given variables\n",
    "W_hh = 10  # kWh/day\n",
    "W_car = 20  # kWh/charging session\n",
    "eta_pv = 0.15 # Efficiency of the solar cells\n",
    "eta_tilt = 0.9  # Adjustment factor for the tilt angle"
   ]
  },
  {
   "cell_type": "markdown",
   "id": "a01ebfaa-ffdf-456c-917a-d63578643908",
   "metadata": {},
   "source": [
    "### Step 4: \n",
    "Run the function and calculate the required area"
   ]
  },
  {
   "cell_type": "code",
   "execution_count": 7,
   "id": "fd8eeb0c-6306-4c18-9965-0c8d0552147b",
   "metadata": {},
   "outputs": [
    {
     "name": "stdout",
     "output_type": "stream",
     "text": [
      "Area= 66.13 m2\n"
     ]
    }
   ],
   "source": [
    "print(f\"Area= {pv.pv_module_area(W_hh, W_car, eta_pv, lat, lon, eta_tilt):.2f} m2\")"
   ]
  },
  {
   "cell_type": "code",
   "execution_count": 8,
   "id": "5b947ec7-b93e-4d09-9269-70b5f3a9754d",
   "metadata": {},
   "outputs": [
    {
     "name": "stdout",
     "output_type": "stream",
     "text": [
      "Required PV module area for México DF: 38.62 m²\n",
      "Required PV module area for Quito: 53.92 m²\n",
      "Required PV module area for Buenos Aires: 45.35 m²\n",
      "Required PV module area for Zaragoza: 46.37 m²\n",
      "Required PV module area for Lima: 44.01 m²\n"
     ]
    }
   ],
   "source": [
    "# Given variables\n",
    "W_hh = 10  # kWh/day\n",
    "W_car = 20  # kWh/charging session\n",
    "eta_pv = 0.15 # Efficiency of the solar cells\n",
    "eta_tilt = 0.9  # Adjustment factor for the tilt angle\n",
    "\n",
    "# List of cities with coordinates\n",
    "cities = {\n",
    "    \"México DF\": (19.4326, -99.1332),\n",
    "    \"Quito\": (-0.1807, -78.4678),\n",
    "    \"Buenos Aires\": (-34.6037, -58.3816),\n",
    "    \"Zaragoza\": (41.6488, -0.8891),\n",
    "    \"Lima\": (-12.0464, -77.0428)\n",
    "}\n",
    "\n",
    "# Calculate and print the required PV module area for each city\n",
    "for city, (latitude, longitude) in cities.items():\n",
    "    try:\n",
    "        required_pv_area = pv.pv_module_area(W_hh, W_car, eta_pv, latitude, longitude, eta_tilt)\n",
    "        print(f\"Required PV module area for {city}: {required_pv_area:.2f} m²\")\n",
    "    except Exception as e:\n",
    "        print(f\"Could not calculate PV module area for {city}: {e}\")\n",
    "\n"
   ]
  },
  {
   "cell_type": "code",
   "execution_count": null,
   "id": "dc4d562a-e8ee-4d9b-acc9-56ad390a0669",
   "metadata": {},
   "outputs": [],
   "source": []
  },
  {
   "cell_type": "code",
   "execution_count": null,
   "id": "9c97a940-8c78-418f-bfdc-5f19f3620e4a",
   "metadata": {},
   "outputs": [],
   "source": []
  },
  {
   "cell_type": "code",
   "execution_count": null,
   "id": "e411fb7c-ef4c-40a5-a2c0-87496803a794",
   "metadata": {},
   "outputs": [],
   "source": []
  }
 ],
 "metadata": {
  "kernelspec": {
   "display_name": "Python 3 (pfse)",
   "language": "python",
   "name": "pfse"
  },
  "language_info": {
   "codemirror_mode": {
    "name": "ipython",
    "version": 3
   },
   "file_extension": ".py",
   "mimetype": "text/x-python",
   "name": "python",
   "nbconvert_exporter": "python",
   "pygments_lexer": "ipython3",
   "version": "3.12.3"
  }
 },
 "nbformat": 4,
 "nbformat_minor": 5
}
